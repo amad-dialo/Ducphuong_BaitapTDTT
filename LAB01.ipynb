{
 "cells": [
  {
   "cell_type": "markdown",
   "id": "70dfef9f",
   "metadata": {},
   "source": [
    "#W2A1"
   ]
  },
  {
   "cell_type": "code",
   "execution_count": 2,
   "id": "e6499245",
   "metadata": {},
   "outputs": [
    {
     "name": "stdout",
     "output_type": "stream",
     "text": [
      "Hello world\n"
     ]
    }
   ],
   "source": [
    "print('Hello world')\n",
    "\n"
   ]
  },
  {
   "cell_type": "markdown",
   "id": "6682437d",
   "metadata": {},
   "source": [
    "#W2A02"
   ]
  },
  {
   "cell_type": "code",
   "execution_count": 1,
   "id": "8670577d",
   "metadata": {},
   "outputs": [
    {
     "name": "stdout",
     "output_type": "stream",
     "text": [
      "Xin chao  ĐUCPHUONG\n"
     ]
    }
   ],
   "source": [
    "def greet() :\n",
    "    name=input('nhap ten nguoi dung: ')\n",
    "    print('Xin chao ',name)\n",
    "\n",
    "greet()"
   ]
  },
  {
   "cell_type": "markdown",
   "id": "e3ba0441",
   "metadata": {},
   "source": [
    "#W2A03"
   ]
  },
  {
   "cell_type": "code",
   "execution_count": 2,
   "id": "af106d37",
   "metadata": {},
   "outputs": [
    {
     "name": "stdout",
     "output_type": "stream",
     "text": [
      "3\n",
      "1\n",
      "2\n",
      "2.0\n",
      "0\n",
      "2\n"
     ]
    }
   ],
   "source": [
    "def tinh_toan() :\n",
    "    a=int(input('nhap so a:'))\n",
    "    b=int(input('nhap so b:'))\n",
    "    print(a+b)\n",
    "    print(a-b)\n",
    "    print(a*b)\n",
    "    print(a/b)\n",
    "    print(a%b)\n",
    "    print(a//b)\n",
    "\n",
    "tinh_toan()"
   ]
  },
  {
   "cell_type": "markdown",
   "id": "2691af9a",
   "metadata": {},
   "source": [
    "#W2A04"
   ]
  },
  {
   "cell_type": "code",
   "execution_count": null,
   "id": "6a75081c",
   "metadata": {},
   "outputs": [],
   "source": [
    "def diem_trung_binh() :\n",
    "    a1=int(input('nhap diem a1:'))\n",
    "    b1=int(input('nhap diem b1:'))\n",
    "    c1=int(input('nhap diem c1:'))\n",
    "    a2=int(input('nhap diem a2:'))\n",
    "    b2=int(input('nhap diem b2:'))\n",
    "    a3=int(input('nhap diem a3:'))\n",
    "    print(((a1+a2+a3)+(a2+b2)*2+a3*3)/10)\n",
    "\n",
    "diem_trung_binh()\n",
    "\n"
   ]
  },
  {
   "cell_type": "markdown",
   "id": "5212aae3",
   "metadata": {},
   "source": [
    "#W2A05"
   ]
  },
  {
   "cell_type": "code",
   "execution_count": null,
   "id": "2254ccbc",
   "metadata": {},
   "outputs": [],
   "source": [
    "def luy_thua() :\n",
    "    a=int(input('nhap so a:'))\n",
    "    b=int(input('nhap so b:'))\n",
    "    print(a**b)\n",
    "\n",
    "luy_thua()"
   ]
  },
  {
   "cell_type": "markdown",
   "id": "da7c4271",
   "metadata": {},
   "source": [
    "#W2A05"
   ]
  },
  {
   "cell_type": "code",
   "execution_count": null,
   "id": "ef28f722",
   "metadata": {},
   "outputs": [],
   "source": [
    "def luy_thua() :\n",
    "    a=int(input('nhap so a:'))\n",
    "    b=int(input('nhap so b:'))\n",
    "    print(a**b)\n",
    "\n",
    "luy_thua()"
   ]
  },
  {
   "cell_type": "markdown",
   "id": "52262b5f",
   "metadata": {},
   "source": [
    "#W2A06"
   ]
  },
  {
   "cell_type": "code",
   "execution_count": null,
   "id": "587ec2d6",
   "metadata": {},
   "outputs": [],
   "source": [
    "a=input('nhap vao 1 ki tu:')\n",
    "if len(a)==1 and 'a' <= a <= 'z' :\n",
    "    unicode_code=ord(a)\n",
    "    print('Unicode code cua a la:',unicode_code)\n",
    "    print(a.upper())\n",
    "\n",
    "a"
   ]
  },
  {
   "cell_type": "markdown",
   "id": "ef82b21a",
   "metadata": {},
   "source": [
    "#W2A07"
   ]
  },
  {
   "cell_type": "code",
   "execution_count": null,
   "id": "09843c23",
   "metadata": {},
   "outputs": [],
   "source": [
    "A=(13**2)*3+5\n",
    "B=13**2*3+5\n",
    "print(A)\n",
    "print(B)\n"
   ]
  },
  {
   "cell_type": "markdown",
   "id": "50700905",
   "metadata": {},
   "source": [
    "#W2A08"
   ]
  },
  {
   "cell_type": "code",
   "execution_count": null,
   "id": "8a9430ca",
   "metadata": {},
   "outputs": [],
   "source": [
    "C=int(input('nhiet do C:'))\n",
    "F=9/5*C+32\n",
    "print(f\"{F:.2f}\")"
   ]
  },
  {
   "cell_type": "markdown",
   "id": "1b206203",
   "metadata": {},
   "source": [
    "#W2A09"
   ]
  },
  {
   "cell_type": "code",
   "execution_count": null,
   "id": "7911ae60",
   "metadata": {},
   "outputs": [],
   "source": [
    "Price=int(input('gia tien cua mon hang:'))\n",
    "A=Price +Price*10/100+Price*30/100+10\n",
    "print(f\"{A:.2f}\")"
   ]
  },
  {
   "cell_type": "markdown",
   "id": "337f7d5e",
   "metadata": {},
   "source": [
    "#W2A10"
   ]
  },
  {
   "cell_type": "code",
   "execution_count": null,
   "id": "146851be",
   "metadata": {},
   "outputs": [],
   "source": [
    "name=input('Nhap ten nguoi: ')\n",
    "names=name.split()\n",
    "print(f\"Hi {names[2]}, {names[1]} and {names[0]}\")"
   ]
  },
  {
   "cell_type": "markdown",
   "id": "324b0ba5",
   "metadata": {},
   "source": [
    "#W2A11"
   ]
  },
  {
   "cell_type": "code",
   "execution_count": null,
   "id": "677198a6",
   "metadata": {},
   "outputs": [],
   "source": [
    "hours=int(input('Nhap so gio:'))\n",
    "mins=int(input('Nhap so phut:'))\n",
    "print(f\"{hours} hours = {hours*60} seconds\",end=' ')\n",
    "print(f\"{mins} minutes = {mins*60} seconds\")"
   ]
  },
  {
   "cell_type": "markdown",
   "id": "ddf400fe",
   "metadata": {},
   "source": [
    "#W2A12"
   ]
  },
  {
   "cell_type": "code",
   "execution_count": null,
   "id": "06704729",
   "metadata": {},
   "outputs": [],
   "source": [
    "n=int(input('Nhap do dai canh rubik:'))\n",
    "print(f\"Rubik do dai canh {n} can {n*n*6} mieng dan\")"
   ]
  },
  {
   "cell_type": "markdown",
   "id": "0f7852fa",
   "metadata": {},
   "source": [
    "#W2A13"
   ]
  },
  {
   "cell_type": "code",
   "execution_count": null,
   "id": "bf738f58",
   "metadata": {},
   "outputs": [],
   "source": [
    "a=int(input('nhap so a:'))\n",
    "b=int(input('nhap so b:'))\n",
    "n= a*b\n",
    "print(n%10)"
   ]
  },
  {
   "cell_type": "markdown",
   "id": "646bbfb8",
   "metadata": {},
   "source": [
    "#W2A14"
   ]
  },
  {
   "cell_type": "code",
   "execution_count": null,
   "id": "71b9581f",
   "metadata": {},
   "outputs": [],
   "source": [
    "a=2\n",
    "b=4\n",
    "print(f'Sau khi bien doi a={b} va b={a}')"
   ]
  },
  {
   "cell_type": "markdown",
   "id": "f78035cd",
   "metadata": {},
   "source": [
    "#W2A15"
   ]
  },
  {
   "cell_type": "code",
   "execution_count": null,
   "id": "7f9a3076",
   "metadata": {},
   "outputs": [],
   "source": [
    "def star_number(n):\n",
    "    if n <=0:\n",
    "        raise ValueError('n phai la so nguyen duong')\n",
    "    else:\n",
    "        print(f'So sao thu {n} la {6*n*(n-1)+1}')\n",
    "star_number(5)"
   ]
  },
  {
   "cell_type": "markdown",
   "id": "e13b5ccf",
   "metadata": {},
   "source": [
    "#W2A16"
   ]
  },
  {
   "cell_type": "code",
   "execution_count": null,
   "id": "d8efcceb",
   "metadata": {},
   "outputs": [],
   "source": [
    "print(\"Spring\\nSummer\\nFalls\\nWinter\")"
   ]
  },
  {
   "cell_type": "markdown",
   "id": "0f3fad27",
   "metadata": {},
   "source": [
    "#W2A17"
   ]
  },
  {
   "cell_type": "code",
   "execution_count": null,
   "id": "b48656ce",
   "metadata": {},
   "outputs": [],
   "source": [
    "print('  *')\n",
    "print(' ***')\n",
    "print('*****')"
   ]
  },
  {
   "cell_type": "markdown",
   "id": "7bd8f572",
   "metadata": {},
   "source": [
    "#W2A18"
   ]
  },
  {
   "cell_type": "code",
   "execution_count": null,
   "id": "67fa6b33",
   "metadata": {},
   "outputs": [],
   "source": [
    "print('### # #   ### ###')\n",
    "print(' #  #  #   #   #')\n",
    "print(' #  #   #  #   #')\n",
    "print(' #  #  #   #   #')\n",
    "print(' #  ##     #   #')"
   ]
  },
  {
   "cell_type": "markdown",
   "id": "e177ffd6",
   "metadata": {},
   "source": [
    "#W2A19"
   ]
  },
  {
   "cell_type": "code",
   "execution_count": null,
   "id": "e16c2870",
   "metadata": {},
   "outputs": [],
   "source": [
    "days=['Monday','Tuesday','Wednesday','Thursday','Friday','Saturday','Sunday']\n",
    "for day in days:\n",
    "    print(day)"
   ]
  },
  {
   "cell_type": "markdown",
   "id": "1ea8b218",
   "metadata": {},
   "source": [
    "#W2A20"
   ]
  },
  {
   "cell_type": "code",
   "execution_count": null,
   "id": "5bf33139",
   "metadata": {},
   "outputs": [],
   "source": [
    "months=['January','Febuary','March','April','May','June','July','August','September','October','November','December']\n",
    "for i in range(11):\n",
    "    print(months[i])\n"
   ]
  },
  {
   "cell_type": "markdown",
   "id": "4e31d9eb",
   "metadata": {},
   "source": [
    "#W2A21"
   ]
  },
  {
   "cell_type": "code",
   "execution_count": null,
   "id": "31e027a5",
   "metadata": {},
   "outputs": [],
   "source": [
    "months=['January','Febuary','March','April','May','June','July','August','September','October','November''December']\n",
    "for i in range(11):\n",
    "    print(months[i])\n"
   ]
  }
 ],
 "metadata": {
  "kernelspec": {
   "display_name": "Python 3",
   "language": "python",
   "name": "python3"
  },
  "language_info": {
   "codemirror_mode": {
    "name": "ipython",
    "version": 3
   },
   "file_extension": ".py",
   "mimetype": "text/x-python",
   "name": "python",
   "nbconvert_exporter": "python",
   "pygments_lexer": "ipython3",
   "version": "3.13.7"
  }
 },
 "nbformat": 4,
 "nbformat_minor": 5
}
