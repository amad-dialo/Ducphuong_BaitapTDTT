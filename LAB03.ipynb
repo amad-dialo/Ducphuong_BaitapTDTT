{
 "cells": [
  {
   "cell_type": "markdown",
   "id": "02b31e48",
   "metadata": {},
   "source": [
    "Q1"
   ]
  },
  {
   "cell_type": "code",
   "execution_count": null,
   "id": "144e29b9",
   "metadata": {},
   "outputs": [],
   "source": [
    "nums=list(map(int,input().split()))\n",
    "for reversed_nums in reversed(nums):\n",
    "    print(reversed_nums, end=\" \")"
   ]
  },
  {
   "cell_type": "markdown",
   "id": "b29ea8fb",
   "metadata": {},
   "source": [
    "Q2"
   ]
  },
  {
   "cell_type": "code",
   "execution_count": null,
   "id": "621d5a54",
   "metadata": {},
   "outputs": [],
   "source": [
    "a,b = (int(i) for i in input().split())\n",
    "a=a^b\n",
    "b=a^b\n",
    "a=a^b\n",
    "print(a,b)"
   ]
  },
  {
   "cell_type": "markdown",
   "id": "54ee8abb",
   "metadata": {},
   "source": [
    "Q3"
   ]
  },
  {
   "cell_type": "code",
   "execution_count": null,
   "id": "956bcc3c",
   "metadata": {},
   "outputs": [],
   "source": [
    "a=int(input())\n",
    "if a>0 and (a & (a-1))==0:\n",
    "    print('True')\n",
    "else:\n",
    "     print('False')"
   ]
  },
  {
   "cell_type": "markdown",
   "id": "454ffce0",
   "metadata": {},
   "source": [
    "Q4"
   ]
  },
  {
   "cell_type": "code",
   "execution_count": null,
   "id": "ac240fd1",
   "metadata": {},
   "outputs": [],
   "source": [
    "a,b=[int(i) for i in input().split()]\n",
    "nums=a/b\n",
    "import math\n",
    "rounded_nums=math.floor(nums)\n",
    "print(rounded_nums)"
   ]
  },
  {
   "cell_type": "markdown",
   "id": "37f5f4fa",
   "metadata": {},
   "source": [
    "Q5"
   ]
  },
  {
   "cell_type": "code",
   "execution_count": null,
   "id": "64320058",
   "metadata": {},
   "outputs": [],
   "source": [
    "a,b=[int(i) for i in input().split()]\n",
    "nums=a/b\n",
    "import math\n",
    "rounded_nums=math.ceil(nums)\n",
    "print(rounded_nums)"
   ]
  },
  {
   "cell_type": "markdown",
   "id": "b517e544",
   "metadata": {},
   "source": [
    "Q6"
   ]
  },
  {
   "cell_type": "code",
   "execution_count": null,
   "id": "ce924f9a",
   "metadata": {},
   "outputs": [],
   "source": [
    "a=int(input())\n",
    "if a%2==0:\n",
    "    print('Even')\n",
    "else:\n",
    "    print('Odd')"
   ]
  },
  {
   "cell_type": "markdown",
   "id": "34833c6a",
   "metadata": {},
   "source": [
    "Q7"
   ]
  },
  {
   "cell_type": "code",
   "execution_count": null,
   "id": "5058d094",
   "metadata": {},
   "outputs": [],
   "source": [
    "a,b=list(map(int,input().split()))\n",
    "if a<0 and b<0:\n",
    "    print('Yes')\n",
    "else:\n",
    "    print('No')"
   ]
  },
  {
   "cell_type": "markdown",
   "id": "991c0f6c",
   "metadata": {},
   "source": [
    "Q8"
   ]
  },
  {
   "cell_type": "code",
   "execution_count": null,
   "id": "8a83290f",
   "metadata": {},
   "outputs": [],
   "source": [
    "a,b=list(input().split())\n",
    "if len(a)>len(b):\n",
    "    print('True')\n",
    "else:\n",
    "    print('False')"
   ]
  },
  {
   "cell_type": "markdown",
   "id": "462f83e8",
   "metadata": {},
   "source": [
    "Q9"
   ]
  },
  {
   "cell_type": "code",
   "execution_count": null,
   "id": "602b714e",
   "metadata": {},
   "outputs": [],
   "source": [
    "a,b,c=list(map(int,input().split()))\n",
    "if a+b>c and a+c>b and b+c>a:\n",
    "    print('Yes')\n",
    "else:\n",
    "    print('No')"
   ]
  },
  {
   "cell_type": "markdown",
   "id": "c121e5e1",
   "metadata": {},
   "source": [
    "Q10"
   ]
  },
  {
   "cell_type": "code",
   "execution_count": null,
   "id": "6aae5ada",
   "metadata": {},
   "outputs": [],
   "source": [
    "a,b,c,d=[int(i) for i in input().split()]\n",
    "if a>b and a>c and a>c:\n",
    "    print(a)\n",
    "elif b>c and b>d:\n",
    "    print(b)\n",
    "elif c>d:\n",
    "    print(c)\n",
    "else:\n",
    "    print(d)"
   ]
  },
  {
   "cell_type": "markdown",
   "id": "94ffe008",
   "metadata": {},
   "source": [
    "Q11"
   ]
  },
  {
   "cell_type": "code",
   "execution_count": null,
   "id": "6f712427",
   "metadata": {},
   "outputs": [],
   "source": [
    "a,b,c=list(map(int,input().split()))\n",
    "if a+b>c and a+c>b and b+c>a:\n",
    "   if a==b==c:\n",
    "    print('tam giác đều')\n",
    "   elif a==b or a==c or b==c:\n",
    "     print('tam giác cân')\n",
    "   else:\n",
    "     print('tam giác thường')\n",
    "else:\n",
    "  print('không phải tam giác')"
   ]
  },
  {
   "cell_type": "markdown",
   "id": "73ff835b",
   "metadata": {},
   "source": [
    "Q12"
   ]
  },
  {
   "cell_type": "code",
   "execution_count": null,
   "id": "49f278a8",
   "metadata": {},
   "outputs": [],
   "source": [
    "a=int(input())\n",
    "if a%4==0 and a%100!=0 or a%400==0:\n",
    "    print('Yes')\n",
    "else:\n",
    "    print('No')"
   ]
  },
  {
   "cell_type": "markdown",
   "id": "452c64db",
   "metadata": {},
   "source": [
    "Q13"
   ]
  },
  {
   "cell_type": "code",
   "execution_count": null,
   "id": "ca805df0",
   "metadata": {},
   "outputs": [],
   "source": [
    "a=int(input())\n",
    "if 0<=a<=50:\n",
    "    print(a*1500)\n",
    "elif a<=100:\n",
    "    print(50*1500+(a-50)*2000)\n",
    "else:\n",
    "    print(50*1500+50*2000+(a-100)*3000)"
   ]
  },
  {
   "cell_type": "markdown",
   "id": "a0c42dc0",
   "metadata": {},
   "source": [
    "Q14"
   ]
  },
  {
   "cell_type": "code",
   "execution_count": null,
   "id": "9d60e999",
   "metadata": {},
   "outputs": [],
   "source": [
    "a,b=list(map(float,input().split()))\n",
    "if a==0:\n",
    "    if b==0:\n",
    "        print('Vô số nghiệm')\n",
    "    else:\n",
    "        print('Vô nghiệm')\n",
    "else:\n",
    "    print(f'{(-b/a):.2f}')"
   ]
  },
  {
   "cell_type": "markdown",
   "id": "cfdbf500",
   "metadata": {},
   "source": [
    "Q15"
   ]
  },
  {
   "cell_type": "code",
   "execution_count": null,
   "id": "0c43d1a7",
   "metadata": {},
   "outputs": [],
   "source": [
    "a=float(input())\n",
    "if a>=8.0:\n",
    "    print('Giỏi')\n",
    "elif a>=6.5:\n",
    "    print('Khá')\n",
    "elif a>=5.0:\n",
    "    print('Trung bình')\n",
    "else:\n",
    "    print('Yếu')"
   ]
  },
  {
   "cell_type": "markdown",
   "id": "1954d4b2",
   "metadata": {},
   "source": [
    "Q16"
   ]
  },
  {
   "cell_type": "code",
   "execution_count": null,
   "id": "8b59969a",
   "metadata": {},
   "outputs": [],
   "source": [
    "a,b,c=list(map(int,input().split()))\n",
    "if a+b>c and a+c>b and b+c>a:\n",
    "   if a==b==c:\n",
    "    print('tam giác đều')\n",
    "   elif a==b or a==c or b==c:\n",
    "     print('tam giác cân')\n",
    "   else:\n",
    "     print('tam giác thường')\n",
    "else:\n",
    "  print('không phải tam giác')"
   ]
  }
 ],
 "metadata": {
  "kernelspec": {
   "display_name": "Python 3",
   "language": "python",
   "name": "python3"
  },
  "language_info": {
   "codemirror_mode": {
    "name": "ipython",
    "version": 3
   },
   "file_extension": ".py",
   "mimetype": "text/x-python",
   "name": "python",
   "nbconvert_exporter": "python",
   "pygments_lexer": "ipython3",
   "version": "3.13.7"
  }
 },
 "nbformat": 4,
 "nbformat_minor": 5
}
