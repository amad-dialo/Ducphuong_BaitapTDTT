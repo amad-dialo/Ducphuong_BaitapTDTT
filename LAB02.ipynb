{
 "cells": [
  {
   "cell_type": "markdown",
   "id": "cfa60fb8",
   "metadata": {},
   "source": [
    "#Q1"
   ]
  },
  {
   "cell_type": "code",
   "execution_count": null,
   "id": "ba8af420",
   "metadata": {},
   "outputs": [],
   "source": [
    "n=int(input())\n",
    "print(n*2)"
   ]
  },
  {
   "cell_type": "markdown",
   "id": "e7bd6b95",
   "metadata": {},
   "source": [
    "#Q2"
   ]
  },
  {
   "cell_type": "code",
   "execution_count": null,
   "id": "3b42177e",
   "metadata": {},
   "outputs": [],
   "source": [
    "a=int(input('chieu dai:'))\n",
    "b=int(input('chieu rong:'))\n",
    "area=a*b\n",
    "import math\n",
    "round=((a/2)**2*math.pi)\n",
    "def dien_tich_trong_hoa():\n",
    "    print(f\"Dien tich trong hoa la {area-round}\")\n",
    "dien_tich_trong_hoa()"
   ]
  },
  {
   "cell_type": "markdown",
   "id": "9a58d090",
   "metadata": {},
   "source": [
    "#Q3"
   ]
  },
  {
   "cell_type": "code",
   "execution_count": null,
   "id": "f79face6",
   "metadata": {},
   "outputs": [],
   "source": [
    "ki_tu=input('nhap ki tu:')\n",
    "if 'a'<= ki_tu <= 'z':\n",
    "    print(ki_tu.upper())\n",
    "else:\n",
    "    if 'A'<=ki_tu<='Z':\n",
    "        print(ki_tu.lower())"
   ]
  },
  {
   "cell_type": "markdown",
   "id": "c55e6be4",
   "metadata": {},
   "source": [
    "#Q4"
   ]
  },
  {
   "cell_type": "code",
   "execution_count": null,
   "id": "79af9a94",
   "metadata": {},
   "outputs": [],
   "source": [
    "ki_tu=input('nhap ki tu:')\n",
    "if 'a'<= ki_tu <= 'z' or 'A' <= ki_tu <= 'Z':\n",
    "    print(f'{ki_tu} la ki tu alphabet')\n",
    "else:\n",
    "    print(f'{ki_tu} khong phai la alphabet')"
   ]
  },
  {
   "cell_type": "markdown",
   "id": "7cc6c7d8",
   "metadata": {},
   "source": [
    "#Q5"
   ]
  },
  {
   "cell_type": "code",
   "execution_count": null,
   "id": "1a14a17e",
   "metadata": {},
   "outputs": [],
   "source": [
    "ki_tu=input('nhap ki tu:')\n",
    "if 'A'<ki_tu<='Z':\n",
    "    print(chr(ord(ki_tu)-1).lower())\n",
    "else:\n",
    "    if 'A'== ki_tu:\n",
    "        print(f'{ki_tu} la truong hop dac biet')"
   ]
  },
  {
   "cell_type": "markdown",
   "id": "29d69b29",
   "metadata": {},
   "source": [
    "#Q6"
   ]
  },
  {
   "cell_type": "code",
   "execution_count": null,
   "id": "78e66566",
   "metadata": {},
   "outputs": [],
   "source": [
    "a=int(input('canh 1:'))\n",
    "b=int(input('canh 2:'))\n",
    "c=int(input('canh 3:'))\n",
    "if a+b>c and a+c>b and b+c>a:\n",
    "    p=(a+b+c)/2\n",
    "    S=(p*(p-a)*(p-b)*(p-c))**(1/2)\n",
    "    print(f'Dien tich tam giac la {S:.2f}')\n",
    "else:\n",
    "    print('Khong phai 3 canh cua 1 tam giac')\n"
   ]
  },
  {
   "cell_type": "markdown",
   "id": "adbe7a89",
   "metadata": {},
   "source": [
    "#Q7"
   ]
  },
  {
   "cell_type": "code",
   "execution_count": null,
   "id": "19f5e40c",
   "metadata": {},
   "outputs": [],
   "source": [
    "a=input()\n",
    "if len(a)>=20:\n",
    "    print(f'Chu cai thu 5 {a[5]} va chu cai thu 9 la {a[9]}')\n"
   ]
  },
  {
   "cell_type": "markdown",
   "id": "698c63e6",
   "metadata": {},
   "source": [
    "#Q8"
   ]
  },
  {
   "cell_type": "code",
   "execution_count": 2,
   "id": "f2937001",
   "metadata": {},
   "outputs": [
    {
     "name": "stdout",
     "output_type": "stream",
     "text": [
      "Ho va ten:t\n",
      "Tien phai tra la:1855505\n"
     ]
    }
   ],
   "source": [
    "ten_chu_ho=input('Ten chu ho:')\n",
    "chi_so_thang_truoc=int(input('Chi so thang truoc:'))\n",
    "chi_so_thang_nay=int(input('Chi so thang nay:'))\n",
    "so_dien=chi_so_thang_nay - chi_so_thang_truoc\n",
    "def tien_dien():\n",
    "    if so_dien<=50:\n",
    "        tien=so_dien*1984\n",
    "    elif so_dien<=100:\n",
    "        tien=50*1984+(so_dien-50)*2050\n",
    "    elif so_dien<=200:\n",
    "        tien=50*1984+50*2050+(so_dien-100)*2380\n",
    "    elif so_dien<=300:\n",
    "        tien=50*1984+50*2050+100*2380+(so_dien-200)*2998\n",
    "    elif so_dien<=400:\n",
    "        tien=50*1984+50*2050+100*2380+100*2998+(so_dien-300)*3350\n",
    "    else:\n",
    "        tien=50*1984+50*2050+100*2380+100*2998+100*3350+(so_dien-400)*3460\n",
    "    tien_tong=tien+tien*0.08\n",
    "    print(f'Ho va ten:{ten_chu_ho}')\n",
    "    print(f'Tien phai tra la:{(tien_tong):.0f}')\n",
    "tien_dien()\n",
    "    \n",
    "    \n"
   ]
  }
 ],
 "metadata": {
  "kernelspec": {
   "display_name": "Python 3",
   "language": "python",
   "name": "python3"
  },
  "language_info": {
   "codemirror_mode": {
    "name": "ipython",
    "version": 3
   },
   "file_extension": ".py",
   "mimetype": "text/x-python",
   "name": "python",
   "nbconvert_exporter": "python",
   "pygments_lexer": "ipython3",
   "version": "3.13.7"
  }
 },
 "nbformat": 4,
 "nbformat_minor": 5
}
